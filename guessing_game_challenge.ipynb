{
 "cells": [
  {
   "cell_type": "markdown",
   "metadata": {},
   "source": [
    "___\n",
    "\n",
    "<a href='https://www.udemy.com/user/joseportilla/'><img src='../Pierian_Data_Logo.png'/></a>\n",
    "___\n",
    "<center><em>Content Copyright by Pierian Data</em></center>"
   ]
  },
  {
   "cell_type": "markdown",
   "metadata": {},
   "source": [
    "# Guessing Game Challenge\n",
    "\n",
    "Let's use `while` loops to create a guessing game.\n",
    "\n",
    "The Challenge:\n",
    "\n",
    "Write a program that picks a random integer from 1 to 100, and has players guess the number. The rules are:\n",
    "\n",
    "1. If a player's guess is less than 1 or greater than 100, say \"OUT OF BOUNDS\"\n",
    "2. On a player's first turn, if their guess is\n",
    " * within 10 of the number, return \"WARM!\"\n",
    " * further than 10 away from the number, return \"COLD!\"\n",
    "3. On all subsequent turns, if a guess is \n",
    " * closer to the number than the previous guess return \"WARMER!\"\n",
    " * farther from the number than the previous guess, return \"COLDER!\"\n",
    "4. When the player's guess equals the number, tell them they've guessed correctly *and* how many guesses it took!\n",
    "\n",
    "You can try this from scratch, or follow the steps outlined below. A separate Solution notebook has been provided. Good luck!\n"
   ]
  },
  {
   "cell_type": "markdown",
   "metadata": {},
   "source": [
    "#### First, pick a random integer from 1 to 100 using the random module and assign it to a variable\n",
    "\n",
    "Note: `random.randint(a,b)` returns a random integer in range `[a, b]`, including both end points."
   ]
  },
  {
   "cell_type": "code",
   "execution_count": 15,
   "metadata": {
    "collapsed": true
   },
   "outputs": [],
   "source": [
    "from random import randint\n",
    "\n",
    "random_num = randint(1, 100)"
   ]
  },
  {
   "cell_type": "markdown",
   "metadata": {},
   "source": [
    "#### Next, print an introduction to the game and explain the rules"
   ]
  },
  {
   "cell_type": "code",
   "execution_count": 7,
   "metadata": {
    "collapsed": true
   },
   "outputs": [
    {
     "name": "stdout",
     "output_type": "stream",
     "text": [
      "So let's play a game in which you have to guess a number from 1 to 100 :)\n",
      "and here are the rules:\n",
      "If your guess is within 10 of the number, I'll say 'WARM!' \n",
      "If your guess is more than 10 away from the number, I'll say 'COLD!' \n",
      "On all subsequent turns,If your guess is closer to the previous guess I'll say 'WARMER!' \n",
      "If your guess is farther from the previous guess, I'll say 'COLDER!' \n",
      "So, let's begin!\n"
     ]
    }
   ],
   "source": [
    "print(\"So let's play a game in which you have to guess a number from 1 to 100 :)\")\n",
    "print(\"and here are the rules:\")\n",
    "print(\"If your guess is within 10 of the number, I'll say 'WARM!' \\n\"\n",
    "    \"If your guess is more than 10 away from the number, I'll say 'COLD!' \\n\"\n",
    "    \"On all subsequent turns,\"\n",
    "    \"If your guess is closer to the previous guess I'll say 'WARMER!' \\n\"\n",
    "    \"If your guess is farther from the previous guess, I'll say 'COLDER!' \\n\"\n",
    "    \"So, let's begin!\")"
   ]
  },
  {
   "cell_type": "markdown",
   "metadata": {},
   "source": [
    "#### Create a list to store guesses\n",
    "\n",
    "Hint: zero is a good placeholder value. It's useful because it evaluates to \"False\""
   ]
  },
  {
   "cell_type": "code",
   "execution_count": 16,
   "metadata": {
    "collapsed": true
   },
   "outputs": [],
   "source": [
    "guesses = [0]"
   ]
  },
  {
   "cell_type": "markdown",
   "metadata": {},
   "source": [
    "#### Write a `while` loop that asks for a valid guess. Test it a few times to make sure it works."
   ]
  },
  {
   "cell_type": "code",
   "execution_count": 4,
   "metadata": {
    "collapsed": true
   },
   "outputs": [
    {
     "name": "stdout",
     "output_type": "stream",
     "text": [
      "OUT OF BOUNDS! TRY AGAIN\n",
      "OUT OF BOUNDS! TRY AGAIN\n",
      "OUT OF BOUNDS! TRY AGAIN\n",
      "OUT OF BOUNDS! TRY AGAIN\n"
     ]
    }
   ],
   "source": [
    "while True:\n",
    "    guess = int(input(\"Guess the number :\"))\n",
    "    \n",
    "    if guess < 1 or guess > 100 :\n",
    "        print(\"OUT OF BOUNDS! TRY AGAIN\")\n",
    "        continue\n",
    "    \n",
    "    break"
   ]
  },
  {
   "cell_type": "markdown",
   "metadata": {},
   "source": [
    "#### Write a `while` loop that compares the player's guess to our number. If the player guesses correctly, break from the loop. Otherwise, tell the player if they're warmer or colder, and continue asking for guesses.\n",
    "\n",
    "Some hints:\n",
    "* it may help to sketch out all possible combinations on paper first!\n",
    "* you can use the `abs()` function to find the positive difference between two numbers\n",
    "* if you append all new guesses to the list, then the previous guess is given as `guesses[-2]`"
   ]
  },
  {
   "cell_type": "code",
   "execution_count": null,
   "metadata": {
    "collapsed": true
   },
   "outputs": [
    {
     "name": "stdout",
     "output_type": "stream",
     "text": [
      "COLD\n",
      "WARMER\n",
      "COLDER\n",
      "WARMER\n",
      "WARMER\n",
      "WARMER\n",
      "CONGRATS! YOU GUESSED IT RIGHT\n"
     ]
    }
   ],
   "source": [
    "while True:\n",
    "\n",
    "    guess = int(input(\"Guess the number :\"))\n",
    "    \n",
    "    if guess < 1 or guess > 100 :\n",
    "        print(\"OUT OF BOUNDS! TRY AGAIN\")\n",
    "        continue\n",
    "    \n",
    "    if guess == random_num :\n",
    "        print(f\"CONGRATS! YOU GUESSED IT RIGHT IN {len(guesses)} GUESSES\")\n",
    "        break\n",
    "        \n",
    "    guesses.append(guess)\n",
    "    \n",
    "    if guesses[-2]:\n",
    "        if abs(random_num - guess) < abs(random_num - guesses[-2]):\n",
    "            print(\"WARMER\")\n",
    "        else:\n",
    "            print(\"COLDER\")\n",
    "    \n",
    "    else:\n",
    "        if abs(random_num - guess) <= 10:\n",
    "            print(\"WARM\")\n",
    "        else:\n",
    "            print(\"COLD\")"
   ]
  },
  {
   "cell_type": "markdown",
   "metadata": {},
   "source": [
    "That's it! You've just programmed your first game!\n",
    "\n",
    "In the next section we'll learn how to turn some of these repetitive actions into *functions* that can be called whenever we need them."
   ]
  },
  {
   "cell_type": "markdown",
   "metadata": {},
   "source": [
    "### Good Job!"
   ]
  }
 ],
 "metadata": {
  "kernelspec": {
   "display_name": "Python 3",
   "language": "python",
   "name": "python3"
  },
  "language_info": {
   "codemirror_mode": {
    "name": "ipython",
    "version": 3
   },
   "file_extension": ".py",
   "mimetype": "text/x-python",
   "name": "python",
   "nbconvert_exporter": "python",
   "pygments_lexer": "ipython3",
   "version": "3.13.1"
  }
 },
 "nbformat": 4,
 "nbformat_minor": 2
}
